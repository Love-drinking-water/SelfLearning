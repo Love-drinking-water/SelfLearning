{
 "cells": [
  {
   "cell_type": "markdown",
   "metadata": {
    "toc": true
   },
   "source": [
    "<h1>Table of Contents<span class=\"tocSkip\"></span></h1>\n",
    "<div class=\"toc\"><ul class=\"toc-item\"><li><span><a href=\"#1.-Data-Representation\" data-toc-modified-id=\"1.-Data-Representation-1\">1. Data Representation</a></span><ul class=\"toc-item\"><li><span><a href=\"#1.1-张量介绍\" data-toc-modified-id=\"1.1-张量介绍-1.1\">1.1 张量介绍</a></span></li><li><span><a href=\"#1.2-张量计算\" data-toc-modified-id=\"1.2-张量计算-1.2\">1.2 张量计算</a></span><ul class=\"toc-item\"><li><span><a href=\"#1.2.1-逐元素运算\" data-toc-modified-id=\"1.2.1-逐元素运算-1.2.1\">1.2.1 逐元素运算</a></span></li><li><span><a href=\"#1.2.2-广播\" data-toc-modified-id=\"1.2.2-广播-1.2.2\">1.2.2 广播</a></span></li><li><span><a href=\"#1.2.3-张量点积\" data-toc-modified-id=\"1.2.3-张量点积-1.2.3\">1.2.3 张量点积</a></span></li></ul></li></ul></li><li><span><a href=\"#2.-BP(Back-Propagation)\" data-toc-modified-id=\"2.-BP(Back-Propagation)-2\">2. BP(Back Propagation)</a></span><ul class=\"toc-item\"><li><span><a href=\"#2.1-数据假设\" data-toc-modified-id=\"2.1-数据假设-2.1\">2.1 数据假设</a></span></li><li><span><a href=\"#2.2-神经网络假设\" data-toc-modified-id=\"2.2-神经网络假设-2.2\">2.2 神经网络假设</a></span></li><li><span><a href=\"#2.3-神经网络运行(前馈)\" data-toc-modified-id=\"2.3-神经网络运行(前馈)-2.3\">2.3 神经网络运行(前馈)</a></span></li><li><span><a href=\"#2.4-神经网络更新参数（反向传播，反馈）\" data-toc-modified-id=\"2.4-神经网络更新参数（反向传播，反馈）-2.4\">2.4 神经网络更新参数（反向传播，反馈）</a></span></li><li><span><a href=\"#2.5-具体权重更新推导\" data-toc-modified-id=\"2.5-具体权重更新推导-2.5\">2.5 具体权重更新推导</a></span></li><li><span><a href=\"#2.6-BP算法流程\" data-toc-modified-id=\"2.6-BP算法流程-2.6\">2.6 BP算法流程</a></span></li><li><span><a href=\"#2.7-BP算法额外说明\" data-toc-modified-id=\"2.7-BP算法额外说明-2.7\">2.7 BP算法额外说明</a></span></li></ul></li><li><span><a href=\"#3.-优化算法\" data-toc-modified-id=\"3.-优化算法-3\">3. 优化算法</a></span><ul class=\"toc-item\"><li><span><a href=\"#3.1-惯性保持\" data-toc-modified-id=\"3.1-惯性保持-3.1\">3.1 惯性保持</a></span><ul class=\"toc-item\"><li><span><a href=\"#3.1.1-带动量的SGD\" data-toc-modified-id=\"3.1.1-带动量的SGD-3.1.1\">3.1.1 带动量的SGD</a></span></li><li><span><a href=\"#3.1.2-Nesterov-动量\" data-toc-modified-id=\"3.1.2-Nesterov-动量-3.1.2\">3.1.2 Nesterov 动量</a></span></li><li><span><a href=\"#3.1.3-momentum和NAG的比较\" data-toc-modified-id=\"3.1.3-momentum和NAG的比较-3.1.3\">3.1.3 momentum和NAG的比较</a></span></li></ul></li><li><span><a href=\"#3.2-自适应学习率\" data-toc-modified-id=\"3.2-自适应学习率-3.2\">3.2 自适应学习率</a></span><ul class=\"toc-item\"><li><span><a href=\"#3.2.1-AdaGrad(2011)\" data-toc-modified-id=\"3.2.1-AdaGrad(2011)-3.2.1\">3.2.1 AdaGrad(2011)</a></span></li><li><span><a href=\"#3.2.2-RMSProp(2012)\" data-toc-modified-id=\"3.2.2-RMSProp(2012)-3.2.2\">3.2.2 RMSProp(2012)</a></span></li><li><span><a href=\"#3.2.3-AdaDelta(2012)\" data-toc-modified-id=\"3.2.3-AdaDelta(2012)-3.2.3\">3.2.3 AdaDelta(2012)</a></span></li><li><span><a href=\"#3.2.4-Adam(2014)\" data-toc-modified-id=\"3.2.4-Adam(2014)-3.2.4\">3.2.4 Adam(2014)</a></span></li></ul></li><li><span><a href=\"#3.3-算法可视化\" data-toc-modified-id=\"3.3-算法可视化-3.3\">3.3 算法可视化</a></span></li><li><span><a href=\"#3.4-优化算法的选择\" data-toc-modified-id=\"3.4-优化算法的选择-3.4\">3.4 优化算法的选择</a></span></li><li><span><a href=\"#3.5-相关阅读\" data-toc-modified-id=\"3.5-相关阅读-3.5\">3.5 相关阅读</a></span></li></ul></li><li><span><a href=\"#4.-激活函数\" data-toc-modified-id=\"4.-激活函数-4\">4. 激活函数</a></span><ul class=\"toc-item\"><li><span><a href=\"#4.1-激活函数的作用\" data-toc-modified-id=\"4.1-激活函数的作用-4.1\">4.1 激活函数的作用</a></span></li><li><span><a href=\"#4.2-神经网络的万能近似定理\" data-toc-modified-id=\"4.2-神经网络的万能近似定理-4.2\">4.2 神经网络的万能近似定理</a></span></li><li><span><a href=\"#4.3-激活函数的形象解释\" data-toc-modified-id=\"4.3-激活函数的形象解释-4.3\">4.3 激活函数的形象解释</a></span></li><li><span><a href=\"#4.4-常见的激活函数\" data-toc-modified-id=\"4.4-常见的激活函数-4.4\">4.4 常见的激活函数</a></span><ul class=\"toc-item\"><li><span><a href=\"#4.4.1-ReLU及其扩展\" data-toc-modified-id=\"4.4.1-ReLU及其扩展-4.4.1\">4.4.1 ReLU及其扩展</a></span></li><li><span><a href=\"#4.4.2-Sigmoid函数\" data-toc-modified-id=\"4.4.2-Sigmoid函数-4.4.2\">4.4.2 Sigmoid函数</a></span></li><li><span><a href=\"#4.4.3-tanh函数\" data-toc-modified-id=\"4.4.3-tanh函数-4.4.3\">4.4.3 tanh函数</a></span></li><li><span><a href=\"#4.4.4-softplus函数\" data-toc-modified-id=\"4.4.4-softplus函数-4.4.4\">4.4.4 softplus函数</a></span></li><li><span><a href=\"#4.4.5-ReLU和Sigmoid比较\" data-toc-modified-id=\"4.4.5-ReLU和Sigmoid比较-4.4.5\">4.4.5 ReLU和Sigmoid比较</a></span></li></ul></li></ul></li><li><span><a href=\"#5.-正则化\" data-toc-modified-id=\"5.-正则化-5\">5. 正则化</a></span><ul class=\"toc-item\"><li><span><a href=\"#5.1-批标准化(Batch-Normalization)\" data-toc-modified-id=\"5.1-批标准化(Batch-Normalization)-5.1\">5.1 批标准化(Batch Normalization)</a></span><ul class=\"toc-item\"><li><span><a href=\"#5.1.1-算法原理\" data-toc-modified-id=\"5.1.1-算法原理-5.1.1\">5.1.1 算法原理</a></span></li><li><span><a href=\"#5.1.2-单个样本计算(移动平均)\" data-toc-modified-id=\"5.1.2-单个样本计算(移动平均)-5.1.2\">5.1.2 单个样本计算(移动平均)</a></span></li><li><span><a href=\"#5.1.3-为什么训练时不采用移动平均\" data-toc-modified-id=\"5.1.3-为什么训练时不采用移动平均-5.1.3\">5.1.3 为什么训练时不采用移动平均</a></span></li><li><span><a href=\"#5.1.4-BN的作用\" data-toc-modified-id=\"5.1.4-BN的作用-5.1.4\">5.1.4 BN的作用</a></span></li><li><span><a href=\"#5.1.5-BN相关阅读\" data-toc-modified-id=\"5.1.5-BN相关阅读-5.1.5\">5.1.5 BN相关阅读</a></span></li></ul></li><li><span><a href=\"#5.2-L1/L2正则\" data-toc-modified-id=\"5.2-L1/L2正则-5.2\">5.2 L1/L2正则</a></span></li><li><span><a href=\"#5.3-Dropout\" data-toc-modified-id=\"5.3-Dropout-5.3\">5.3 Dropout</a></span><ul class=\"toc-item\"><li><span><a href=\"#5.3.1-训练时流程\" data-toc-modified-id=\"5.3.1-训练时流程-5.3.1\">5.3.1 训练时流程</a></span></li><li><span><a href=\"#5.3.2-预测时流程\" data-toc-modified-id=\"5.3.2-预测时流程-5.3.2\">5.3.2 预测时流程</a></span></li><li><span><a href=\"#5.3.3-dropout的作用\" data-toc-modified-id=\"5.3.3-dropout的作用-5.3.3\">5.3.3 dropout的作用</a></span></li></ul></li></ul></li><li><span><a href=\"#6.-References\" data-toc-modified-id=\"6.-References-6\">6. References</a></span></li></ul></div>"
   ]
  },
  {
   "cell_type": "markdown",
   "metadata": {},
   "source": [
    "## 1. Data Representation\n",
    "\n",
    "### 1.1 张量介绍\n",
    "\n",
    "一般来说，当前所有机器学习系统使用**张量**(tensor)作为数据结构，它是一个数据容器，包含的数据几乎总是数值类型。矩阵是二维张量，它是矩阵向任意维度的推广，张量的维度(dimension)叫做轴(axis)。\n",
    "\n",
    "- 标量(`0D`张量)   \n",
    "仅包含一个数字的张量叫做标量(scalar)，也称之为标量张量、零维张量\n",
    "\n",
    "- 向量(`1D`张量)\n",
    "数字组成的数组叫作向量(vector)或者一维张量，如下，"
   ]
  },
  {
   "cell_type": "code",
   "execution_count": 2,
   "metadata": {
    "ExecuteTime": {
     "end_time": "2019-04-04T11:37:04.152585Z",
     "start_time": "2019-04-04T11:37:04.143332Z"
    }
   },
   "outputs": [
    {
     "name": "stdout",
     "output_type": "stream",
     "text": [
      "1D tensor: [1 3 5 7]\n",
      "1D axis:  1\n"
     ]
    }
   ],
   "source": [
    "import numpy as np\n",
    "\n",
    "x = np.array([1, 3, 5, 7])\n",
    "print(\"1D tensor:\", x)\n",
    "print(\"1D axis: \", x.ndim)"
   ]
  },
  {
   "cell_type": "markdown",
   "metadata": {},
   "source": [
    "- 矩阵(`2D`张量)\n",
    "向量组成的数组叫做矩阵(matrix)或者二维张量，如下，"
   ]
  },
  {
   "cell_type": "code",
   "execution_count": 6,
   "metadata": {
    "ExecuteTime": {
     "end_time": "2019-04-04T11:41:16.667646Z",
     "start_time": "2019-04-04T11:41:16.659098Z"
    }
   },
   "outputs": [
    {
     "name": "stdout",
     "output_type": "stream",
     "text": [
      "2D tensor: \n",
      " [[2 7 4]\n",
      " [1 7 2]]\n",
      "2D axis:  2\n"
     ]
    }
   ],
   "source": [
    "import numpy as np\n",
    "\n",
    "x = np.random.randint(10, size=(2, 3))\n",
    "print(\"2D tensor: \\n\", x)\n",
    "print(\"2D axis: \", x.ndim)"
   ]
  },
  {
   "cell_type": "markdown",
   "metadata": {
    "ExecuteTime": {
     "end_time": "2019-04-04T11:48:39.756484Z",
     "start_time": "2019-04-04T11:48:39.746052Z"
    }
   },
   "source": [
    "- `3D`张量\n",
    "将多个矩阵组成一个数组便可以得到一个3D张量，如下，"
   ]
  },
  {
   "cell_type": "code",
   "execution_count": 7,
   "metadata": {
    "ExecuteTime": {
     "end_time": "2019-04-04T11:43:13.677897Z",
     "start_time": "2019-04-04T11:43:13.663044Z"
    }
   },
   "outputs": [
    {
     "name": "stdout",
     "output_type": "stream",
     "text": [
      "3D tensor: \n",
      " [[[7 7 6 9 4]\n",
      "  [0 7 4 8 7]\n",
      "  [9 9 1 1 9]]\n",
      "\n",
      " [[4 2 1 5 7]\n",
      "  [0 0 8 3 4]\n",
      "  [1 2 5 9 4]]]\n",
      "3D axis:  3\n"
     ]
    }
   ],
   "source": [
    "import numpy as np\n",
    "\n",
    "x = np.random.randint(10, size=(2, 3, 5))\n",
    "print(\"3D tensor: \\n\", x)\n",
    "print(\"3D axis: \", x.ndim)"
   ]
  },
  {
   "cell_type": "markdown",
   "metadata": {},
   "source": [
    "可以依次类推到更高维度的张量，现实中的数据张量，\n",
    "\n",
    "- 结构化数据   \n",
    "2D张量，形状(samples, features)\n",
    "\n",
    "- 序列数据   \n",
    "3D张量，形状(samples, timesteps, features)\n",
    "\n",
    "- 图像数据   \n",
    "4D张量，形状(samples, channels, height, width)\n",
    "\n",
    "- 视频数据   \n",
    "5D张量，形状(samples, frames, channels, height, width)\n",
    "\n",
    "张量的属性，\n",
    "\n",
    "- 轴的个数(阶)   \n",
    "nD张量有n个轴\n",
    "\n",
    "- 形状   \n",
    "nD张量的形状为长度为n向量，比如3D张量的形状可以为(1, 2, 4), (2, 5, 7)等等\n",
    "\n",
    "- 数据类型   \n",
    "绝大多数情况下张量的类型为数值类型，很少为字符串类型，因为张量存储在预先分配的连续内存中，但是字符串长度是可变的，无法用这种方式存储。"
   ]
  },
  {
   "cell_type": "markdown",
   "metadata": {},
   "source": [
    "### 1.2 张量计算\n",
    "\n",
    "#### 1.2.1 逐元素运算\n",
    "\n",
    "逐元素计算(element-wise)，独立的对张量中的每一个元素进行计算，完全可以实现并行\n",
    "\n",
    "#### 1.2.2 广播\n",
    "如果两个不同形状的张量进行相加，较小的张量会被广播(broadcast)，来匹配较大张量的形状，通常广播包含两个小步骤，\n",
    "1）向较小的张量添加轴（广播轴），使其ndim和大的张量相同\n",
    "2）将较小的张量沿着新的轴重复"
   ]
  },
  {
   "cell_type": "code",
   "execution_count": 15,
   "metadata": {
    "ExecuteTime": {
     "end_time": "2019-04-04T12:24:10.319689Z",
     "start_time": "2019-04-04T12:24:10.295262Z"
    }
   },
   "outputs": [
    {
     "name": "stdout",
     "output_type": "stream",
     "text": [
      "tensor operation broadcast:\n",
      "x1:\n",
      " [[[1 0 8 9 6 1]\n",
      "  [5 7 5 4 2 7]\n",
      "  [8 5 1 8 4 8]\n",
      "  [8 7 8 7 8 1]]\n",
      "\n",
      " [[2 3 7 9 3 0]\n",
      "  [2 9 9 5 5 9]\n",
      "  [0 9 0 1 7 5]\n",
      "  [0 5 5 6 5 0]]]\n",
      "x2:\n",
      " [[9 4 5 7 9 0]\n",
      " [0 5 7 0 8 8]\n",
      " [6 8 1 1 5 5]\n",
      " [9 9 6 1 7 1]]\n",
      "x1 + x2 = \n",
      "\n",
      "[[[10  4 13 16 15  1]\n",
      "  [ 5 12 12  4 10 15]\n",
      "  [14 13  2  9  9 13]\n",
      "  [17 16 14  8 15  2]]\n",
      "\n",
      " [[11  7 12 16 12  0]\n",
      "  [ 2 14 16  5 13 17]\n",
      "  [ 6 17  1  2 12 10]\n",
      "  [ 9 14 11  7 12  1]]]\n",
      "x1 shape (2, 4, 6) x1 ndim 3\n",
      "x2 shape (4, 6) x2 ndim 2\n",
      "x shape (2, 4, 6) x ndim 3\n"
     ]
    }
   ],
   "source": [
    "import numpy as np \n",
    "\n",
    "x1 = np.random.randint(10, size=(2, 4, 6))\n",
    "x2 = np.random.randint(10, size=(4, 6))\n",
    "x = x1+x2\n",
    "\n",
    "print(\"tensor operation broadcast:\")\n",
    "print(\"x1:\\n\", x1)\n",
    "print(\"x2:\\n\", x2)\n",
    "\n",
    "print(\"x1 + x2 = \\n\")\n",
    "print(x)\n",
    "\n",
    "print(\"x1 shape {} x1 ndim {}\".format(x1.shape, x1.ndim))\n",
    "print(\"x2 shape {} x2 ndim {}\".format(x2.shape, x2.ndim))\n",
    "print(\"x shape {} x ndim {}\".format(x.shape, x.ndim))\n"
   ]
  },
  {
   "cell_type": "markdown",
   "metadata": {},
   "source": [
    "#### 1.2.3 张量点积\n",
    "一般在Numpy、Keras、Theano和Tensorflow中，使用`*`实现逐元素乘积，在Numpy和Keras中，使用`dot`来实现点积"
   ]
  },
  {
   "cell_type": "code",
   "execution_count": 22,
   "metadata": {
    "ExecuteTime": {
     "end_time": "2019-04-04T12:28:38.322002Z",
     "start_time": "2019-04-04T12:28:38.294003Z"
    }
   },
   "outputs": [
    {
     "name": "stdout",
     "output_type": "stream",
     "text": [
      "tensor operation product:\n",
      "x1:\n",
      " [[[9 2 8 6 4 0]\n",
      "  [6 9 5 1 0 7]\n",
      "  [0 1 9 4 0 4]\n",
      "  [5 2 2 5 2 3]]\n",
      "\n",
      " [[5 5 7 2 2 0]\n",
      "  [8 6 4 1 5 1]\n",
      "  [9 8 9 4 7 5]\n",
      "  [3 7 7 3 9 9]]]\n",
      "x2:\n",
      " [[9 6]\n",
      " [3 6]\n",
      " [3 4]\n",
      " [3 5]\n",
      " [6 6]\n",
      " [5 0]]\n",
      "x1 + x2 = \n",
      "\n",
      "[[[153 152]\n",
      "  [134 115]\n",
      "  [ 62  62]\n",
      "  [ 99  87]]\n",
      "\n",
      " [[ 99 110]\n",
      "  [140 135]\n",
      "  [211 200]\n",
      "  [177 157]]]\n",
      "x1 shape (2, 4, 6) x1 ndim 3\n",
      "x2 shape (6, 2) x2 ndim 2\n",
      "x shape (2, 4, 2) x ndim 3\n"
     ]
    }
   ],
   "source": [
    "import numpy as np \n",
    "\n",
    "x1 = np.random.randint(10, size=(2, 4, 6))\n",
    "x2 = np.random.randint(10, size=(6, 2))\n",
    "\n",
    "x = np.dot(x1, x2)\n",
    "\n",
    "print(\"tensor operation product:\")\n",
    "print(\"x1:\\n\", x1)\n",
    "print(\"x2:\\n\", x2)\n",
    "\n",
    "print(\"x1 + x2 = \\n\")\n",
    "print(x)\n",
    "\n",
    "print(\"x1 shape {} x1 ndim {}\".format(x1.shape, x1.ndim))\n",
    "print(\"x2 shape {} x2 ndim {}\".format(x2.shape, x2.ndim))\n",
    "print(\"x shape {} x ndim {}\".format(x.shape, x.ndim))\n"
   ]
  },
  {
   "cell_type": "markdown",
   "metadata": {},
   "source": [
    "## 2. BP(Back Propagation)\n",
    "在神经网络训练时，往往基于反向传播算法，通过优化算法来优化网络权重。\n",
    "通常说”BP网络“时，一般是指用BP算法训练的多层前馈神经网络。\n",
    "\n",
    "### 2.1 数据假设   \n",
    "对于给定的数据集$D=\\{(\\vec{x_1}, \\vec{y_1}), \\ldots, (\\vec{x_m}, \\vec{y_m})\\}, \\vec{x_i} \\in R^d, \\vec{y_i} \\in R^l$，相当于数据集包含$m$个样本，每个样本有$d$个属性和对应$l$个标签。   \n",
    "\n",
    "### 2.2 神经网络假设   \n",
    "假设网络结构为三层，分别为输入层、隐含层和输出层，其分别对应$d$个输入神经元、$q$个隐含神经元和$l$个输出神经元。假设输入层至隐含层的连接权重为$v_{ih}$，隐含层至输出层的连接权重为$w_{hj}$，隐含层的神经元阈值为$\\gamma_{h}$，输出层的神经元阈值为$\\theta_{j}$，显然$i \\in {1, 2, \\cdots, d}, h \\in {1, 2, \\cdots, q}, j \\in {1, 2, \\cdots, l}$    \n",
    "> Note：此处日后有时间可以加一张图，来绘制一下网络结构\n",
    "\n",
    "\n",
    "### 2.3 神经网络运行(前馈)      \n",
    "对于某一个训练样本，$(\\vec{x_k}, \\vec{y_k})$，首先经过加权进入至隐含层，$\\alpha_{h}=\\sum_{i=1}^d v_{ih} \\cdot x_i$，隐含层具体取值为$b_h = f(\\alpha_h - \\gamma_h)$，然后数据由隐含层进入至输出层，$\\beta_j=\\sum_{h=1}^q w_{hj} \\cdot b_h$，在输出层的具体输出为$\\hat{y_j}=f(\\beta_j-\\theta_j)$，其中函数$f$为sigmoid函数\n",
    "\n",
    "### 2.4 神经网络更新参数（反向传播，反馈）   \n",
    "假设我们采用的损失函数为均方损失，那么对于训练样本$(\\vec{x_k}, \\vec{y_k})$，其对应的损失则为，   \n",
    "$$L_k=\\frac{1}{2}\\sum_{j=1}^l(y_j-\\hat{y_j})^2$$\n",
    "上述神经网络中共对应$(d+l+1)q+l$个参数，其中输入层值隐含层权重数量为$d \\cdot q$，隐含层阈值数量为$q$，隐含层至输出层权重的数量为$q \\cdot l$，输入层阈值数量为$l$.    \n",
    "BP算法是基于梯度下降策略来对权重进行更新调整，大致形式为，\n",
    "$v = v - \\eta \\frac{\\partial L}{\\partial v}$\n",
    "\n",
    "### 2.5 具体权重更新推导 \n",
    "- 参数$w_{hj}$的更新   \n",
    "基于梯度下降策略，其大致形式为$w_{hj}=w_{hj}-\\eta \\frac{\\partial L_k}{\\partial w_{hj}}$，依据链式法则，有如下， \n",
    "$$\\frac{\\partial L_k}{w_{hj}} = \\frac{\\partial L_k}{\\partial \\hat{y_{j}}} \\cdot \\frac{\\partial \\hat{y_{j}}}{\\partial \\beta_{j}} \\cdot \\frac{\\partial \\beta_{j}}{\\partial w_{hj}}$$\n",
    "其中，\n",
    "$\\frac{\\partial L_k}{\\partial \\hat{y_j}} = \\hat{y_j}-y_j$, \n",
    "$\\frac{\\partial \\hat{y_j}}{\\partial \\beta_j} = \\hat{y_j}(1-\\hat{y_j})$, \n",
    "$\\frac{\\beta_j}{\\partial w_{hj}} = b_h$\n",
    "所以，   \n",
    "$$\\frac{\\partial L_k}{w_{hj}} = (\\hat{y_j}-y_j) \\cdot (\\hat{y_j}(1-\\hat{y_j})) \\cdot b_h$$\n",
    "\n",
    "- 参数$\\theta_j$的更新   \n",
    "形式为$\\theta_j = \\theta_j - \\eta \\frac{\\partial L_k}{\\partial \\theta_j}$，其中， \n",
    "$\\frac{\\partial L_k}{\\partial \\theta_j} = \\frac{\\partial L_k}{\\partial \\hat{y_{j}}} \\cdot \\frac{\\partial \\hat{y_j}}{\\partial \\theta_j}=(\\hat{y_j} - y_j) \\cdot (\\hat{y_j}(\\hat{y_j}-1))$\n",
    "\n",
    "- 参数$v_{ih}$的更新   \n",
    "形式为$v_{ih} = v_{ih} - \\eta \\frac{\\partial L_k}{\\partial v_{ih}}$，依据链式法则，有如下，\n",
    "$$\\frac{\\partial L_k}{\\partial v_{ih}} = \\frac{\\partial \\alpha_{h}}{\\partial v_{ih}} \\cdot \\frac{\\partial b_h}{\\partial \\alpha_h} \\cdot \\sum_{j=1}^{l}\\frac{\\partial \\beta_j}{\\partial b_h}\\frac{\\partial \\hat{y_j}}{\\partial \\beta_j} \\frac{\\partial L_k}{\\partial \\hat{y_j}}$$ \n",
    "其中，\n",
    "$\\frac{\\partial \\alpha_{h}}{\\partial v_{ih}} = x_i$, \n",
    "$\\frac{\\partial b_h}{\\partial \\alpha_h} = b_h(1-b_h)$, \n",
    "$\\frac{\\partial \\beta_j}{\\partial b_h} = w_{hj}$,\n",
    "$\\frac{\\partial \\hat{y_j}}{\\partial \\beta_j} = \\hat{y_j}(1-\\hat{y_j})$,\n",
    "$\\frac{\\partial L_k}{\\partial \\hat{y_j}} = \\hat{y_j}-y_j$\n",
    "所以，   \n",
    "$$\\frac{\\partial L_k}{\\partial v_{ih}} = x_i \\cdot b_h(1-b_h) \\cdot \\sum_{j=1}^{l}w_{hj}\\hat{y_j}(1-\\hat{y_j})(\\hat{y_j}-y_j)$$\n",
    "\n",
    "- 参数$\\gamma_h$的更新   \n",
    "形式为$\\gamma_h = \\gamma_h - \\eta \\frac{\\partial L_k}{\\partial \\gamma_h}$，依据链式法则， \n",
    "$$\\frac{\\partial L_k}{\\partial \\gamma_h} = \\frac{\\partial b_h}{\\partial \\gamma_h} \\cdot \\sum_{j=1}^{l}\\frac{\\partial \\beta_j}{\\partial b_h}\\frac{\\partial \\hat{y_j}}{\\partial \\beta_j} \\frac{\\partial L_k}{\\partial \\hat{y_j}}$$，\n",
    "根据上面**参数$v_{ih}$的更新**，\n",
    "$$\\frac{\\partial L_k}{\\partial \\gamma_h} = b_h(b_h-1) \\cdot \\sum_{j=1}^{l}w_{hj}\\hat{y_j}(1-\\hat{y_j})(\\hat{y_j}-y_j)$$\n",
    "\n",
    "### 2.6 BP算法流程\n",
    "BP算法具体框架如下，  \n",
    "\n",
    "------\n",
    "\n",
    "**输入：**   \n",
    "$\\quad $ 训练集$ D=\\{ (\\vec{x_k}, \\vec{y_k})\\}_{k=1}^m, \\vec{x_k} \\in R_d, \\vec{y_k} \\in R_l$   \n",
    "$\\quad $ 学习率$\\eta$    \n",
    "$\\quad $ 对应的损失函数$L$   \n",
    "**过程：**    \n",
    "1.在$(0, 1)$范围内随机初始化网络中所有的连接权值和阈值    \n",
    "2.**Repeat**  \n",
    "3.$\\quad $ **for all $(\\vec{x_k}, \\vec{y_k}) \\in D:$**   \n",
    "4.$\\qquad $根据**2.2.3 神经网络运行（前馈）**，求得对应输入$\\vec{x_k}$的输出$\\hat{y_k}$;   \n",
    "5.$\\qquad $分别求参数$w_{hj},\\theta_j,v_{ih}, \\gamma_h$对应的梯度值$\\frac{\\partial L_k}{\\partial w_{hj}}, \\frac{\\partial L_k}{\\partial \\theta_{j}}, \\frac{\\partial L_k}{\\partial v_{ih}}, \\frac{\\partial L_k}{\\partial \\gamma_h}$   \n",
    "6.$\\qquad $按照梯度下降的方式，更新参数$w_{hj},\\theta_j,v_{ih}, \\gamma_h$   \n",
    "7.$\\quad $ **end for**   \n",
    "8.**until**达到停止条件   \n",
    "**输出：**    \n",
    "连接权重和阈值，即$w_{hj},\\theta_j,v_{ih}, \\gamma_h$\n",
    "\n",
    "------\n",
    "\n",
    "### 2.7 BP算法额外说明\n",
    "上述**2.2.6 BP算法流程**中，每次针对一个训练样本更新权重和阈值，该过程也被称之为**标准BP算法**。需要注意的是，BP算法的目标是最小化训练集的损失，\n",
    "$$L = \\frac{1}{m}\\sum_{k=1}^{m}L_k$$\n",
    "如果上面基于此来推导连接权重和阈值，这样就称之为**累计误差逆传播算法**，两者之间的区别类似于**随机梯度下降(SGD)**和**标准梯度下降**。   \n",
    "为了达到相同的损失极小点，标准BP算法往往需要更多次数的迭代，累计BP算法需要读取整个训练集一遍后才对参数进行更新，其参数更新频率更新要低的多。  \n",
    "在大多数任务中，累计损失下降到一定程度后，进一步下降会非常缓慢，这时标准BP往往会获得较好的解。 "
   ]
  },
  {
   "cell_type": "markdown",
   "metadata": {},
   "source": [
    "## 3. 优化算法\n",
    "在目录`../../optimization_learning`中目前有一部分传统的优化算法，目前有**GradientDescent**，**CoordinateDescent**和**NewtonMethod**，本部分所介绍的优化算法，主要是深度学习中经常用到的，比如Adagrad，RMSProp，Adam等\n",
    "\n",
    "在**GradientDescent.ipynb**中提到随机梯度下降可能遇到”峡谷“和”鞍点“两种情况，SGD的改进遵循两个方向，分别是**惯性保持**和**环境感知**。\n",
    "\n",
    "### 3.1 惯性保持   \n",
    "惯性保持指的是在SGD中加入动量  \n",
    "\n",
    "#### 3.1.1 带动量的SGD  \n",
    "- 作用   \n",
    "引入动量（Momentum）方法一方面是为了解决“峡谷”和“鞍点”问题；一方面也可以用于SGD加速，特别是针对高曲率、小幅但是方向一致的梯度。   \n",
    "  - ”峡谷“和”鞍点“：如果把原始的 SGD 想象成一个纸团在重力作用向下滚动，由于质量小受到山壁弹力的干扰大，导致来回震荡；或者在鞍点处因为质量小速度很快减为 0，导致无法离开这块平地。   \n",
    "  - 动量：动量方法相当于把纸团换成了铁球；不容易受到外力的干扰，轨迹更加稳定；同时因为在鞍点处因为惯性的作用，更有可能离开平地。   \n",
    "  - 动量方法以一种廉价的方式模拟了二阶梯度（牛顿法）   \n",
    "  ![](../../../pics/峡谷_动量解决.png)\n",
    "  \n",
    "  \n",
    "- 算法描述   \n",
    "![](../../../pics/带动量SGD.png)\n",
    "从形式上看，动量算法引入了变量$v$充当速度角色，代表参数在参数空间移动的方向和速率，速度$v$累积了梯度元素$g$，相对于$\\epsilon, \\alpha$越大，之前的梯度对现在的方向影响也越大。   \n",
    "在SGD中，步长是梯度范数乘以学习率。现在，步长取决于**梯度序列的大小和排列**。当许多连续的梯度指向相同的方向时，步长最大。   \n",
    "如果动量算法总是观测到梯度$g$，那么它回在方向$-g$上不停地加速，知道达到最终速度，其中步长大小为，\n",
    "$$v \\leftarrow \\alpha v - \\epsilon g \\Longrightarrow v \\leftarrow \\frac{-\\epsilon g}{1-\\alpha}$$\n",
    "\n",
    "- 实践中，$\\alpha$的取值为0.5,0.9和0.99，分别对应的步长的2倍、10倍和100倍。   \n",
    "- 类似于下面所讲的自适应学习率，$\\alpha$也可以使用某种策略进行**自适应调整**；一般初始值是一个较小的值，随后慢慢变大。\n",
    "\n",
    "#### 3.1.2 Nesterov 动量\n",
    "Nesterov动量和标准动量之间的区别体现在梯度的计算上，Nesterov动量中，梯度计算在施加当前速度之后。   \n",
    "Nesterov动量可以解释为往标准动量方法中添加了一个**校正因子**。 \n",
    "Nesterov动量的直观理解：  \n",
    "> 动量法每下降一步都是由前面下降方向的一个累积和当前点的梯度方向组合而成。于是一位大神（Nesterov）就开始思考，既然每一步都要将两个梯度方向（历史梯度、当前梯度）做一个合并再下降，那为什么不先按照历史梯度往前走那么一小步，按照前面一小步位置的“超前梯度”来做梯度合并呢？如此一来，小球就可以先不管三七二十一先往前走一步，在靠前一点的位置看到梯度，然后按照那个位置再来修正这一步的梯度方向。如此一来，有了超前的眼光，小球就会更加”聪明“, 这种方法被命名为Nesterov accelerated gradient 简称 NAG。 --[NAG](https://blog.csdn.net/tsyccnh/article/details/76673073)\n",
    "\n",
    "具体算法流程如下， \n",
    "![](../../../pics/Nesterov动量.png)\n",
    "在凸批量梯度的情况下，Nesterov动量可以将额外无查收敛率从$O(1/k)$（k步后）改进到$O(1/k^2)$，在随机梯度的情况下，Nestov动量并没有改进收敛率。\n",
    "\n",
    "#### 3.1.3 momentum和NAG的比较    \n",
    "\n",
    "- momentum（标准动量）示意图    \n",
    "![](../../../pics/标准动量示意图.jpeg)\n",
    "\n",
    "- NAG（nesterov动量）示意图   \n",
    "![](../../../pics/nesterov动量示意图.jpeg)  \n",
    "\n",
    "具体实验比较，参考博文[NAG&momentum](https://blog.csdn.net/tsyccnh/article/details/76673073)"
   ]
  },
  {
   "cell_type": "markdown",
   "metadata": {},
   "source": [
    "### 3.2 自适应学习率 \n",
    "\n",
    "#### 3.2.1 AdaGrad(2011)  \n",
    "该算法的思想是独立地适应所有模型参数的学习率，缩放每个参数反比于其所有梯度 历史平方值总和的平方根。   \n",
    "具有损失最大偏导的参数相应地有一个快速下降的学习率，而具有小偏导数的参数在学习率上有相对较小的学习率的下降，净效果是在参数空间中更为平缓的倾斜方向会取得更大的进步。  \n",
    "- 算法描述   \n",
    "![](../../../pics/AdaGrad算法描述.png)\n",
    "\n",
    "- 算法优缺点   \n",
    " - 优点   \n",
    "   - 可以不用学习率适应参数，对于出现次数较少的特征采用较小的学习率，反之采用较大的学习率。因此可以处理稀疏数据\n",
    "   - 可以提高SGD的鲁棒性，有人用来训练glove（低频词需要较大的学习率，高频词需要较小的学习率）\n",
    " - 缺点   \n",
    "   - 训练深度学习神经网络时，训练开始时积累梯度平方会导致有效学习率过早和过量的减小  \n",
    "   - 学习率是单调递减的，训练后期学习率过小会导致训练困难，甚至提前结束  \n",
    "  \n",
    " 下面算法**AdaDelta**和**RMSProp**都是为解决**AdaGrad**的学习率过度衰减而产生的。\n",
    " \n",
    "#### 3.2.2 RMSProp(2012)\n",
    "RMSProp改变AdaGrad的梯度累积为**指数加权的移动平均**。  \n",
    "AdaGrad旨在应用于凸问题时快速收敛，当应用于非凸函数训练神经网络时，学习轨迹可能穿过了很多不同的结构，最终到达一个局部是凸的区域，由于AdaGrad根据整个平方梯度的整个历史收缩学习率，可能使得学习率在到达这样的凸结构之前就变得很小。    \n",
    "RMSProp使用指数衰减平均来丢弃遥远过去的历史，使其能够在找到凸状结构后快速收敛，相当于初始化于有该凸结构的AdaGrad算法。  \n",
    "\n",
    "- 算法描述   \n",
    "![](../../../pics/RMSProp算法描述.png)\n",
    "> Note: RMSProp建议初始值为：$\\epsilon=1e-3$，衰减率为$\\rho=0.9$\n",
    "\n",
    "- 带Nesterov动量的RMSProp\n",
    "![](../../../pics/带Nesterov动量RMSProp算法描述.png)\n",
    "\n",
    "#### 3.2.3 AdaDelta(2012)\n",
    "- AdaDelta 和 RMSProp 是独立发现的，AdaDelta 的前半部分与 RMSProp 完全一致   \n",
    "- AdaDelta 进一步解决了 AdaGrad 需要设置一个全局学习率的问题   \n",
    "\n",
    "- 算法描述   \n",
    "\n",
    "---\n",
    "\n",
    "**Require:** 衰减速率$\\rho$   \n",
    "**Require:** 初始参数$\\boldsymbol{\\theta}$   \n",
    "**Require:** 小常数$\\sigma$   \n",
    "$\\quad$ 初始化累计变量$\\boldsymbol{r}=0, \\boldsymbol{s}=0$   \n",
    "$\\quad$ **while**没有达到停止条件 **do**   \n",
    "$\\qquad$ 从训练集中采样包含$m$个样本$\\{\\boldsymbol{x^{(1)}}, \\cdots, \\boldsymbol{x^{(m)}}\\}$，对应目标为$\\boldsymbol{y^{(i)}}$    \n",
    "$\\qquad$ 计算梯度$\\boldsymbol{g} \\leftarrow \\frac{1}{m}\\nabla_{\\boldsymbol{\\theta}}\\sum_{i}L(f(\\boldsymbol{x^{(i)}});\\boldsymbol{\\theta}, \\boldsymbol{y^{(i)}})$    \n",
    "$\\qquad$ 累计平方梯度：$\\boldsymbol{r_t} \\leftarrow \\rho \\boldsymbol{r_{t-1}}+(1-\\rho)\\boldsymbol{g} \\bigodot \\boldsymbol{g}$\n",
    "\n",
    "> 以上部分和RMSProp一样\n",
    "\n",
    "$\\qquad$ 计算参数更新：$\\boldsymbol{\\Delta \\theta}=-\\frac{\\sqrt{\\boldsymbol{s_{t-1}}+\\sigma}}{\\sqrt{\\boldsymbol{r}+\\sigma}}$   \n",
    "$\\qquad$ 应用更新： $\\boldsymbol{\\theta} \\leftarrow \\boldsymbol{\\theta} + \\boldsymbol{\\Delta \\theta}$   \n",
    "$\\qquad$ 累计参数平方：$\\boldsymbol{s_t} \\leftarrow \\rho \\boldsymbol{s_{t-1}}+(1-\\rho)\\boldsymbol{\\Delta \\theta} \\bigodot \\boldsymbol{\\Delta \\theta}$   \n",
    "$\\quad$ **end while**\n",
    "\n",
    "---\n",
    "\n",
    "在AdaDelta算法中，不需要设置默认的学习率，相当于学习率为$\\sqrt{\\boldsymbol{s_{t-1}}+\\sigma}$\n",
    "\n",
    "- 缺点   \n",
    "但是到训练后期，进入局部最小值雷区之后，AdaDelta就会反复在局部最小值附近抖动。\n",
    "\n",
    "#### 3.2.4 Adam(2014)\n",
    "Adam 在 RMSProp 方法的基础上更进一步：\n",
    "- 加入了**历史梯度平方的指数衰减平均**   \n",
    "- 保留了**历史梯度的指数衰减平均**   \n",
    "\n",
    "- 算法描述  \n",
    "![](../../../pics/Adam算法描述.png)\n",
    "\n",
    "> 偏差修正： \n",
    "> 注意到，s 和 r 需要初始化为 0；且 ρ1 和 ρ2 推荐的初始值都很接近 1（0.9 和 0.999）\n",
    "> 这将导致在训练初期 s 和 r 都很小（偏向于 0），从而训练缓慢。\n",
    "> 因此，Adam 通过修正偏差来抵消这个倾向。\n",
    "\n",
    "- Adam的其它变种  \n",
    "  - AdaMax  \n",
    "    - Adam 的一个变种，对梯度平方的处理由指数衰减平均改为指数衰减求最大值\n",
    "  - Nadam  \n",
    "    - Nesterov 动量版本的 Adam\n",
    "  \n",
    "\n",
    " ### 3.3 算法可视化  \n",
    " \n",
    "在图(a)中，我们看到不同算法在损失曲面的等高线上走的不同路线。所有的算法都是从同一个点出发并选择不同路径到达最优点。其中，Adagrad，Adadelta和RMSprop能够立即转移到正确的移动方向上并以类似的速度收敛；而动量法和NAG会导致偏离，想像一下球从山上滚下的画面。然而，NAG能够在偏离之后快速修正其路线，因为NAG通过对最优点的预见增强其响应能力。   \n",
    "在图(b)中，SGD，动量法和NAG在鞍点处很难打破对称性，尽管后面两个算法最终设法逃离了鞍点。而Adagrad，RMSprop和Adadelta能够快速想着梯度为负的方向移动，其中Adadelta走在最前面。\n",
    "\n",
    "<div style=\"float:left;border:solid 1px 000;margin:2px;text-align:center\"><img src=\"../../../pics/算法等高线可视化.gif\"  width=\"400\" height=\"350\" >\n",
    " (a)损失曲面等高线优化算法可视化</div>\n",
    "\n",
    "<div style=\"float:right;border:solid 1px 000;margin:2px;text-align:center\"><img src=\"../../../pics/算法鞍点可视化.gif\" width=\"400\" height=\"350\" >\n",
    "(b)鞍点优化算法可视化</div>"
   ]
  },
  {
   "cell_type": "markdown",
   "metadata": {},
   "source": [
    "### 3.4 优化算法的选择  \n",
    "如果输入数据是稀疏的，选择任一**自适应学习率算法**可能会得到最好的结果。选用这类算法的另一个好处是无需调整学习率，选用默认值就可能达到最好的结果。    \n",
    "\n",
    "总的来说，RMSprop是Adagrad的扩展形式，用于处理在Adagrad中急速递减的学习率。RMSprop与Adadelta相同，所不同的是Adadelta在更新规则中不需要设置全局学习率（使用参数的均方根进行更新）。最后，Adam是将偏差校正和动量加入到RMSprop中。在这样的情况下，RMSprop、Adadelta和Adam是很相似的算法并且在相似的环境中性能都不错。Kingma等人指出在优化后期由于梯度变得越来越稀疏，偏差校正能够帮助Adam微弱地胜过RMSprop。综合看来，Adam可能是最佳的选择。\n",
    "  \n",
    "有趣的是，最近许多论文中采用不带动量的SGD和一种简单的学习率的退火策略。已表明，通常SGD能够找到最小值点，但是比其他优化的SGD花费更多的时间，与其他算法相比，SGD更加依赖鲁棒的初始化和退火策略，同时，SGD可能会陷入鞍点，而不是局部极小值点。因此，如果你关心的是快速收敛和训练一个深层的或者复杂的神经网络，你应该选择一个**自适应学习率**的方法。\n",
    "\n",
    "### 3.5 相关阅读   \n",
    "- [梯度下降优化算法综述](https://blog.csdn.net/google19890102/article/details/69942970)\n",
    "- [优化算法理论+代码实现+深度学习知识](http://zh.gluon.ai/chapter_optimization/index.html)\n",
    "\n",
    "## 4. 激活函数\n",
    "在神经网络中，激活函数定义了一个神经元的输出，它将神经元的输入值映射到一个范围，比如说(0, 1)或者(-1, 1)等等，这取决于不同的激活函数。\n",
    "\n",
    "### 4.1 激活函数的作用\n",
    "使用激活函数的目的是为了在网络中添加非线性元素，以此来增加网络的表示能力。假如不添加非线性元素，那么无论网络有多少层，其整体也是线性的，这样的网络显然表示能力较弱。\n",
    "\n",
    "### 4.2 神经网络的万能近似定理 \n",
    "神经网络的万能近似定理认为主要神经网络具有至少一个非线性隐藏层，那么只要给予网络足够数量的隐藏单元，它就可以以任意的精度来近似**任何从一个有限维空间到另一个有限维空间的函数**\n",
    "\n",
    "### 4.3 激活函数的形象解释\n",
    "参考知乎链接，[激活函数的形象解释](https://www.zhihu.com/question/22334626)\n",
    "\n",
    "### 4.4 常见的激活函数 \n",
    "\n",
    "#### 4.4.1 ReLU及其扩展\n",
    "扩展公式为$g(z;\\alpha)=\\max(0,z)+\\alpha \\cdot \\min(0,z)$，   \n",
    "\n",
    "- 标准ReLU(Rectified Linear Units)     \n",
    "当$\\alpha=0$时，即为标准的ReLU公式，$\\rm{ReLu}(z) = max(0, z)$    \n",
    "\n",
    "- 绝对值整流(absolute value rectification)   \n",
    "当$\\alpha=-1$时，即为绝对值整流函数，$g(z) = |z|$   \n",
    "\n",
    "- 渗漏整流线性单元（Leaky ReLU, Maas et al., 2013）   \n",
    "此时$\\alpha$取一个固定值，比如0.01\n",
    "\n",
    "- 参数化整流线性单元（parametric ReLU, PReLU, He et al., 2015）   \n",
    "此时$\\alpha$是一个可以学习的参数\n",
    "\n",
    "\n",
    "#### 4.4.2 Sigmoid函数\n",
    "函数为$\\sigma(z) = \\frac{1}{1+e^{-z}}, z \\in R, \\sigma(z) \\in (0, 1)$\n",
    "\n",
    "#### 4.4.3 tanh函数\n",
    "函数为$\\tanh(z)=\\frac{\\sinh(z)}{\\cosh(z)}=\\frac{e^x-e^{-x}}{e^x+e^{-x}}, z \\in R, \\tanh(z) \\in (-1, 1)$\n",
    "\n",
    "#### 4.4.4 softplus函数\n",
    "函数为$g(z)=\\log(1+e^z)$，可以理解为函数ReLU的平滑版本，依据经验来看，其效果要差于ReLU\n",
    "\n",
    "下面**CELL**中绘制相应的函数图像。\n",
    "\n",
    "#### 4.4.5 ReLU和Sigmoid比较\n",
    "1. 避免梯度消失   \n",
    " - sigmoid函数在输入取绝对值非常大的正值或负值时会出现饱和现象——在图像上表现为变得很平，此时函数会对输入的微小变化不敏感——从而造成梯度消失；   \n",
    " - ReLU 的导数始终是一个常数——负半区为 0，正半区为 1——所以不会发生梯度消失现象   \n",
    "\n",
    "2. 减缓过拟合  \n",
    "ReLU 在负半区的输出为0，一旦神经元的激活值进入负半区，那么该激活值就不会产生梯度/不会被训练，造成了网络的稀疏性，这有助于减少参数的相互依赖，缓解过拟合问题的发生\n",
    "\n",
    "3. 加速计算  \n",
    "ReLU求导不涉及浮点数计算，故计算过程中，可以加速计算。"
   ]
  },
  {
   "cell_type": "code",
   "execution_count": 20,
   "metadata": {
    "ExecuteTime": {
     "end_time": "2019-04-11T11:53:26.774328Z",
     "start_time": "2019-04-11T11:53:25.626608Z"
    }
   },
   "outputs": [
    {
     "data": {
      "image/png": "[encoded data removed]",
      "text/plain": [
       "<Figure size 720x576 with 4 Axes>"
      ]
     },
     "metadata": {},
     "output_type": "display_data"
    }
   ],
   "source": [
    "import matplotlib.pyplot as plt\n",
    "import seaborn as sns\n",
    "import numpy as np \n",
    "\n",
    "sns.set() \n",
    "\n",
    "x = np.arange(-10, 10, 0.1)\n",
    "y_relu = [max(0, i) for i in x]\n",
    "y_sigmoid = [1.0/(1+np.exp(-i)) for i in x]\n",
    "y_tanh = [(np.exp(i)-np.exp(-i))/(np.exp(i)+np.exp(-i)) for i in x]\n",
    "y_softplus = [np.log(1+np.exp(i)) for i in x]\n",
    "\n",
    "fig, axs = plt.subplots(2, 2, figsize=(10, 8))\n",
    "\n",
    "axs[0][0].plot(x, y_relu)\n",
    "axs[0][0].set_title(\"$ReLU(z) = \\max(0, z)$\")\n",
    "\n",
    "axs[0][1].plot(x, y_sigmoid)\n",
    "axs[0][1].set_title(\"$sigmoid(z) = {1}/(1+e^{-z})$\")\n",
    "\n",
    "axs[1][0].plot(x, y_tanh)\n",
    "axs[1][0].set_title(\"$tanh(z) = (e^x-e^{-x})/(e^x+e^{-x})$\")\n",
    "\n",
    "axs[1][1].plot(x, y_softplus)\n",
    "axs[1][1].set_title(\"$softplus(z) = \\log(1+e^z)$\")\n",
    "\n",
    "fig.show()"
   ]
  },
  {
   "cell_type": "markdown",
   "metadata": {},
   "source": [
    "## 5. 正则化\n",
    "\n",
    "### 5.1 批标准化(Batch Normalization)  \n",
    "\n",
    "BN 方法会针对每一批数据，在网络的每一层输入之前增加归一化处理，使输入的均值为 0，标准差为 1。目的是将数据限制在统一的分布下。\n",
    "\n",
    "#### 5.1.1 算法原理   \n",
    "具体来说，针对某层的第 k 个神经元，计算这一批数据在第 k 个神经元的均值与标准差(每个数据在该神经元产生一个值，如果这批数据大小是m，那么就产生m个值，然后计算这些值的均值和标准差)，然后将归一化后的值作为该神经元的激活值。\n",
    "$$\\hat{x_k} \\leftarrow \\frac{x_k-\\rm E(x_k)}{\\sqrt{(\\rm Var(x_k))}}$$\n",
    "BN 可以看作在各层之间加入了一个新的计算层，对数据分布进行额外的约束，从而增强模型的泛化能力；\n",
    "但同时 BN 也降低了模型的拟合能力，破坏了之前学到的特征分布；\n",
    "为了恢复数据的原始分布，BN 引入了一个重构变换来还原最优的输入数据分布,\n",
    "$$y_k \\leftarrow \\gamma \\cdot \\hat{x_k} + \\beta$$\n",
    "其中$\\gamma$和$\\beta$是可训练参数  \n",
    "\n",
    "上面的算法框架如下， \n",
    "![](../../../pics/batch_norm.png)\n",
    "\n",
    "#### 5.1.2 单个样本计算(移动平均)\n",
    "\n",
    "训练时，按照mini-batch方式训练，可以使用上述的方式进行运算，但是当网络仅仅输入一个样本时，此时显然使用上述方法欠妥，此时模型使用**全局统计量**代替上述的批统计量。    \n",
    "1）在训练每个batch时，可以预先存储每个batch的均值和方差   \n",
    "2）最后求所有的batch的均值和方差的期望，  \n",
    "$$\\rm E[x] \\leftarrow \\rm E[\\mu_i]$$\n",
    "$$\\rm Var[x] \\leftarrow \\frac{m}{m-1} \\rm E[\\sigma_i^2]$$\n",
    "其中$\\mu_i$和$\\sigma_i$表示第i轮的均值和标准差,m为batch_size，系数$\\frac{m}{m-1}$用于计算**无偏方差估计**\n",
    "> Note: 上述方式在原论文中称为**移动平均(moving average)**\n",
    "\n",
    "目前的$\\rm{BN}(x_i)$可以表示为\n",
    "$$\n",
    "\\begin{equation}\\begin{split} \n",
    "\\rm{BN}(x_i) &= \\gamma \\frac{x_i-\\rm E[x]}{\\sqrt{\\rm Var[x] + \\epsilon}} + \\beta \\\\\n",
    "&= \\frac{\\gamma}{\\sqrt{\\rm Var[x] + \\epsilon}}x_i + \\left(\\beta - \\frac{\\gamma \\rm E[x]}{\\sqrt{\\rm Var[x] + \\epsilon}}\\right)\n",
    "\\end{split}\\end{equation}\n",
    "$$\n",
    "以上整体算法如下，\n",
    "![BN_train_predict](../../../pics/BN_train_predict.png)\n",
    "\n",
    "#### 5.1.3 为什么训练时不采用移动平均\n",
    "BN author:  \n",
    "> \"It is natural to ask whether we could simply use the moving averages µ, σ to perform the normalization during training, since this would remove the dependence of the normalized activations on the other example in the minibatch. This, however, has been observed to lead to the model blowing up. As argued in [6], such use of moving averages would cause the gradient optimization and the normalization to counteract each other. For example, the gradient step may increase a bias or scale the convolutional weights, in spite of the fact that the normalization would cancel the effect of these changes on the loss. This would result in unbounded growth of model parameters without actually improving the loss. It is thus crucial to use the minibatch moments, and to backpropagate through them.\"\n",
    "\n",
    "\n",
    "简言之，作者认为训练时使用移动平均可能会和梯度优化存在冲突，在网络在使用梯度优化时，会对权重增加一些偏移，但是在使用BN后，可能会将这些偏移抵消掉。\n",
    "\n",
    "#### 5.1.4 BN的作用\n",
    "\n",
    "- 允许较大的学习率，加快模型收敛速度   \n",
    "BN通过固定网络层输入（也即前一层的响应）的分布（标准正态）使优化过程中的解空间更平滑，从而确保了梯度更具预测性和稳定性，因此可以使用更大范围的学习率并获得更快的收敛速度。\n",
    "\n",
    "- 避免深层网络的梯度消失或爆炸问题   \n",
    "BN通过固定网络层输入的均值和方差，即使网络较深层的响应或梯度过小或过大时，也可通过BN的规范化作用将其缩放到一个比较合理的取值范围，从而避免梯度消失或爆炸问题。\n",
    "\n",
    "- 减少对参数初始化方法的依赖    \n",
    "Xavier等参数初始化的目的是为了使网络各层的输入输出具有相同的统计分布，而BN直接对网络层构造标准正态分布的响应，能够达到同样的目的。 \n",
    "\n",
    "#### 5.1.5 BN相关阅读  \n",
    "- [深入理解Batch Normalization批标准化](https://www.cnblogs.com/guoyaohua/p/8724433.html)\n",
    "- [BN具体做法](https://blog.csdn.net/u010899985/article/details/82251932)\n",
    "\n",
    "\n",
    "### 5.2 L1/L2正则\n",
    "\n",
    "参考本项目 **算法篇/basic_concepts/Regularization.ipynb**"
   ]
  },
  {
   "cell_type": "markdown",
   "metadata": {},
   "source": [
    "### 5.3 Dropout\n",
    "\n",
    "在每个训练批次中，令部分隐藏层节点取值为0，可以减少隐含层节点间的相互作用，可以明显减少过拟合现象。\n",
    "\n",
    "或者说网络在向前传播时，令神经元的激活值以概率$p$删除(每个神经元以概率$1-p$保留，$p$丢弃)，这样可以增加模型的泛化能力。\n",
    "\n",
    "#### 5.3.1 训练时流程 \n",
    "1）随机地按照按照dropout rate删掉部分神经元，输入输出神经元保持不变   \n",
    "2）输入的批量样本前向传播，然后反向更新网络权重（没有删除的），按照比例$\\frac{1}{1-p}$放缩网络权重，完成一次训练    \n",
    "3）恢复删除的神经元，然后重复步骤1）和步骤2）    \n",
    "> Note: 上面提到的删掉部分神经元是指以概率$p$产生0或者1(伯努力分布)，然后将0或者1乘对应的权重，0值对应的权重相当于删除神经元  \n",
    "\n",
    "- 放缩比例$\\frac{1}{1-p}$的确定   \n",
    "不妨假设某个神经元的dropout前的取值为$x$，个数为$n$，dropout后的期望为$E = p\\cdot 0 + (1-p)x$，要想整体期望在删除神经元前后保持一致，\n",
    "$$E \\cdot \\rm{scale} = x$$\n",
    "则有放缩比例$\\rm{scale}=\\frac{1}{1-p}$   \n",
    "\n",
    "#### 5.3.2 预测时流程  \n",
    "预测阶段不同于训练阶段，此时不可以随机删除神经元，否则同一个输入可能存在多个不同的预测结果，为了和训练dropout保持一致，采取的策略是将取值调整为$x\\rightarrow (1-p)x$\n",
    "- 放缩$x \\rightarrow (1-p)x$的确定    \n",
    "考虑某一个隐含层的神经元在dropout之前的输出是$x$，在dropout之后的期望值为$E = (1-p)x+p0$，所以为了保持前后期望的一致，即\n",
    "$$x \\cdot \\rm{scale} = E$$\n",
    "于是有将神经元的值调整为$x \\rightarrow (1-p)x$   \n",
    "\n",
    "\n",
    "#### 5.3.3 dropout的作用\n",
    "\n",
    "1）加快训练速度   \n",
    "通过随机将删除神经元，相当于减少了需要学习的参数，可以加快训练\n",
    "\n",
    "2）降低过拟合  \n",
    "- 类似baggin策略    \n",
    "可以把dropout类比为将许多神经网络进行集成的bagging方法（bagging参数独立，dropout参数共享）。dropout每次训练次均随机删除掉神经元，相当于每次训练得到一个模型，最后综合这些模型结果得到最终的结果.\n",
    "\n",
    "- 减少神经元之间的依赖   \n",
    "这样权值的更新不再依赖于有固定关系的隐含节点的共同作用，阻止了某些特征仅仅在其它特定特征下才有效果的情况 。迫使网络去学习更加鲁棒的特征 "
   ]
  },
  {
   "cell_type": "markdown",
   "metadata": {},
   "source": [
    "## 6. References\n",
    "\n",
    "1. 弗朗索瓦$\\cdot$肖莱. Python 深度学习[M]. 人民邮电出版社 \n",
    "2. 周志华. 机器学习[M]. 清华大学出版社\n",
    "3. https://github.com/imhuay/Algorithm_Interview_Notes-Chinese/\n",
    "4. [深度学习中Dropout原理解析](https://blog.csdn.net/program_developer/article/details/80737724)\n",
    "5. [梯度下降优化算法综述\n",
    "](https://blog.csdn.net/google19890102/article/details/69942970)"
   ]
  }
 ],
 "metadata": {
  "kernelspec": {
   "display_name": "Python 3",
   "language": "python",
   "name": "python3"
  },
  "language_info": {
   "codemirror_mode": {
    "name": "ipython",
    "version": 3
   },
   "file_extension": ".py",
   "mimetype": "text/x-python",
   "name": "python",
   "nbconvert_exporter": "python",
   "pygments_lexer": "ipython3",
   "version": "3.6.8"
  },
  "toc": {
   "base_numbering": 1,
   "nav_menu": {},
   "number_sections": false,
   "sideBar": true,
   "skip_h1_title": false,
   "title_cell": "Table of Contents",
   "title_sidebar": "Contents",
   "toc_cell": true,
   "toc_position": {
    "height": "783px",
    "left": "222px",
    "top": "206px",
    "width": "317px"
   },
   "toc_section_display": true,
   "toc_window_display": true
  },
  "varInspector": {
   "cols": {
    "lenName": 16,
    "lenType": 16,
    "lenVar": 40
   },
   "kernels_config": {
    "python": {
     "delete_cmd_postfix": "",
     "delete_cmd_prefix": "del ",
     "library": "var_list.py",
     "varRefreshCmd": "print(var_dic_list())"
    },
    "r": {
     "delete_cmd_postfix": ") ",
     "delete_cmd_prefix": "rm(",
     "library": "var_list.r",
     "varRefreshCmd": "cat(var_dic_list()) "
    }
   },
   "types_to_exclude": [
    "module",
    "function",
    "builtin_function_or_method",
    "instance",
    "_Feature"
   ],
   "window_display": false
  }
 },
 "nbformat": 4,
 "nbformat_minor": 2
}
